{
 "cells": [
  {
   "cell_type": "markdown",
   "id": "1b2a49af",
   "metadata": {},
   "source": [
    "<h1 style=\"color:green;text-align:center\">Data stracture and algorism</h1>\n",
    "<div style=\"margin-left:300px\">\n",
    "<h5>Name Aster Mamushet Asefa<br>\n",
    "Departement:Computer scince<br>\n",
    "ID = DBU1601401<br>\n",
    "Email=astermamusht012@gmail.com<br>\n",
    "GitHub Account:  <a href=\"https://github.com/AsterMamushet/Data-Stucture-and-Algorthms\" target=\"_blank\">\n",
    "      https://github.com/AsterMamushet/Data-Stucture-and-Algorthms\n",
    "    </a>"
   ]
  },
  {
   "cell_type": "markdown",
   "id": "b9a395ca",
   "metadata": {},
   "source": []
  },
  {
   "cell_type": "markdown",
   "id": "9551d907",
   "metadata": {},
   "source": [
    "<h1 style=\"color:green;text-align:center\"><b>Bubble Sort</h1><b>\n",
    "<h5>The Bubble Sort algorithm is a simple sorting algorithm that repeatedly steps through the list, compares adjacent elements, and swaps them if they are in the wrong order. The process is repeated until the list is sorted.</h5><br>\n",
    "<h4 style=\"color:yellow\">How Bubble Sort Works:<br></h4>\n",
    "1, Start at the beginning of the list.<br>\n",
    "2, Compare the first two adjacent elements.<br>\n",
    "3, If the first element is greater than the second, swap them.<br>\n",
    "4, Move to the next pair of elements and repeat the comparison and swap if needed.<br>\n",
    "5, Continue this process until the end of the list.<br>\n",
    "6, After the first pass, the largest element will be in its correct position (the end of the list).<br>\n",
    "7, Repeat the process for the remaining unsorted portion of the list, excluding the last sorted elements.<br>\n",
    "8,Continue until the list is fully sorted.<br>\n",
    "<h4 style=\"color:yellow\">Advantages:<br></h4>\n",
    "1,Simplicity:<br>\n",
    "Bubble Sort is very simple to understand and implement.<br>\n",
    "It is often used as an introductory algorithm for teaching sorting concepts.<br>\n",
    "2,No Additional Space Required:<br>\n",
    "It is an in-place sorting algorithm, meaning it does not require extra memory for an auxiliary data structure.<br>\n",
    "Space complexity is O(1).<br>\n",
    "3, Stability:<br>\n",
    "Bubble Sort is a stable sorting algorithm, meaning that it preserves the relative order of equal elements.<br>\n",
    "4, Works Well on Small or Nearly Sorted Data:<br>\n",
    "For small datasets or datasets that are already mostly sorted, Bubble Sort performs reasonably well.<br>\n",
    "<h4 style=\"color:yellow\">Disadvantages:<br></h4>\n",
    "1,Inefficiency for Large Datasets:<br>\n",
    "The algorithm has a time complexity of O(n²) in the worst and average cases, making it very inefficient for large datasets.<br>\n",
    "2, Redundant Comparisons:<br>\n",
    "Even if the list is sorted, Bubble Sort may still perform unnecessary comparisons unless optimized (e.g., by adding a flag to detect if the array is already sorted).<br>\n",
    "3, Slow Performance:<br>\n",
    "Other algorithms like Quick Sort, Merge Sort, and Heap Sort significantly outperform Bubble Sort in terms of speed.<br>\n",
    "4, Not Suitable for Real-Time Applications:<br>\n",
    "Due to its inefficiency, Bubble Sort is rarely used in real-world applications where performance is critical.<br>\n",
    "<h4 style=\"color:yellow\">Performance of Bubble Sort<br></h4>\n",
    "Time Complexity:<br>\n",
    "Best Case: When the array is already sorted, Bubble Sort only performs a single pass without making any swaps.<br>\n",
    "Average Case and Worst Case: When the array is unordered or sorted in reverse order, it performs O(n²) comparisons and swaps.<br>\n",
    "Space Complexity:<br>\n",
    "O(1) (constant space): Bubble Sort does not use any extra memory apart from a few variables for iteration and swapping.<br>\n",
    "Stability:<br>\n",
    "Stable: Equal elements retain their relative order after sorting.\n"
   ]
  },
  {
   "cell_type": "code",
   "execution_count": 5,
   "id": "d69ee691",
   "metadata": {},
   "outputs": [
    {
     "name": "stdout",
     "output_type": "stream",
     "text": [
      "Student Sorted By ID:\n",
      "{'Name': 'Aster', 'ID': 1601201, 'CGPA': 3.2}\n",
      "{'Name': 'Aynadis', 'ID': 1601300, 'CGPA': 3.9}\n",
      "{'Name': 'Aster', 'ID': 1601401, 'CGPA': 4.0}\n",
      "{'Name': 'Abay', 'ID': 1601404, 'CGPA': 2.8}\n",
      "{'Name': 'Nati', 'ID': 1601406, 'CGPA': 3.0}\n",
      "{'Name': 'Mamushet', 'ID': 1601408, 'CGPA': 3.4}\n",
      "{'Name': 'Fanos', 'ID': 1601503, 'CGPA': 3.5}\n",
      "{'Name': 'Dayt', 'ID': 1601505, 'CGPA': 3.1}\n",
      "{'Name': 'Hewan', 'ID': 1601506, 'CGPA': 3.3}\n",
      "{'Name': 'Eden', 'ID': 1601507, 'CGPA': 3.3}\n"
     ]
    }
   ],
   "source": [
    "students = [{\"Name\":\"Aster\",\"ID\":1601401,\"CGPA\":4.0},\n",
    "           {\"Name\":\"Nati\",\"ID\":1601406,\"CGPA\":3.0},\n",
    "           {\"Name\":\"Hewan\",\"ID\":1601506,\"CGPA\":3.3},\n",
    "           {\"Name\":\"Aynadis\",\"ID\":1601300,\"CGPA\":3.9},\n",
    "           {\"Name\":\"Fanos\",\"ID\":1601503,\"CGPA\":3.5},\n",
    "           {\"Name\":\"Dayt\",\"ID\":1601505,\"CGPA\":3.1},\n",
    "           {\"Name\":\"Eden\",\"ID\":1601507,\"CGPA\":3.3},\n",
    "           {\"Name\":\"Abay\",\"ID\":1601404,\"CGPA\":2.8},\n",
    "           {\"Name\":\"Aster\",\"ID\":1601201,\"CGPA\":3.2},\n",
    "           {\"Name\":\"Mamushet\",\"ID\":1601408,\"CGPA\":3.4}]\n",
    "\n",
    "def Bubble_Sort_By_ID(students):\n",
    "    n = len(students)\n",
    "    for i in range(n):\n",
    "        Swapped = False\n",
    "        for j in range(0, n-i-1):\n",
    "            if students[j][\"ID\"] > students[j + 1][\"ID\"]:\n",
    "                students[j], students[j + 1] = students[j + 1], students[j]\n",
    "                Swapped = True\n",
    "        if not Swapped:\n",
    "            break\n",
    "    return students  # <-- Moved outside the loop\n",
    "\n",
    "Bubble_Sort_By_ID(students)\n",
    "print(\"Student Sorted By ID:\")\n",
    "for i in students:\n",
    "    print(i)\n"
   ]
  },
  {
   "cell_type": "markdown",
   "id": "4e6bd708",
   "metadata": {},
   "source": [
    "<h1 style=\"color:green;text-align:center\"><b>Insertion_sort</b></h1>\n",
    "<h5>Insertion Sort builds the final sorted array one item at a time. It takes elements from the unsorted part and inserts them into their correct position in the sorted part.</h5>\n",
    "<h4 style=\"color:yellow\">How inseartion sort work:</h4><br>\n",
    "<h5>1, pick an element: start from the second element because  the first element already sorted<br>\n",
    "2, find the correct position : Compare the picked elementwith each elementin the sorted part of array<br>\n",
    "3, Sift element: Move all element  larger than the picked element one position  to the rigth<br>\n",
    "4, inseart the element: place the picked element into the correct posttion<br>\n",
    "5, Repeat: Continue this process  until all element are sorted</h5><br>\n",
    "<h4 style=\"color:yellow\">Performance</h4>\n",
    "Time Complexity: O(n²) in the worst and average cases, O(n) in the best case (when the list is already sorted).\n",
    "Space Complexity: O(1) (in-place sorting).\n",
    "<h4 style=\"color:yellow\">Advantages</h4>\n",
    "<h5>1, Simple to implement and efficient for small datasets.<br>\n",
    "2, Adaptive to nearly sorted data (performs well in such cases).<br>\n",
    "3, online: Can sort data as it arrives,suitable for real-time streaming data scenarios<br></h5>\n",
    "<h4 style=\"color:yellow\">Disadvantages</h4>\n",
    "<h5>1, Inefficient for large datasets due to O(n²) time complexity.<br>\n",
    "2, Requires more comparisons than some other algorithms for larger data.<br>\n",
    "3, More swaps compared to selection sort, which can be a drawbavk on moder harde ware</h5>"
   ]
  },
  {
   "cell_type": "code",
   "execution_count": 6,
   "id": "07580423",
   "metadata": {},
   "outputs": [
    {
     "name": "stdout",
     "output_type": "stream",
     "text": [
      "Sorted alfabetically By Name:\n",
      "{'Name': 'Abay', 'ID': 1601404, 'CGPA': 2.8}\n",
      "{'Name': 'Aster', 'ID': 1601401, 'CGPA': 4.0}\n",
      "{'Name': 'Aynadis', 'ID': 1601300, 'CGPA': 3.9}\n",
      "{'Name': 'Dayt', 'ID': 1601505, 'CGPA': 3.1}\n",
      "{'Name': 'Eden', 'ID': 1601507, 'CGPA': 3.3}\n",
      "{'Name': 'Fanos', 'ID': 1601503, 'CGPA': 3.5}\n",
      "{'Name': 'Hewan', 'ID': 1601506, 'CGPA': 3.3}\n",
      "{'Name': 'Mamushet', 'ID': 1601408, 'CGPA': 3.4}\n",
      "{'Name': 'Nati', 'ID': 1601406, 'CGPA': 3.0}\n",
      "{'Name': 'Petros', 'ID': 1601201, 'CGPA': 3.2}\n"
     ]
    }
   ],
   "source": [
    "students = [{\"Name\":\"Aster\",\"ID\":1601401,\"CGPA\":4.0},\n",
    "           {\"Name\":\"Nati\",\"ID\":1601406,\"CGPA\":3.0},\n",
    "           {\"Name\":\"Hewan\",\"ID\":1601506,\"CGPA\":3.3},\n",
    "           {\"Name\":\"Aynadis\",\"ID\":1601300,\"CGPA\":3.9},\n",
    "           {\"Name\":\"Fanos\",\"ID\":1601503,\"CGPA\":3.5},\n",
    "           {\"Name\":\"Dayt\",\"ID\":1601505,\"CGPA\":3.1},\n",
    "           {\"Name\":\"Eden\",\"ID\":1601507,\"CGPA\":3.3},\n",
    "           {\"Name\":\"Abay\",\"ID\":1601404,\"CGPA\":2.8},\n",
    "           {\"Name\":\"Petros\",\"ID\":1601201,\"CGPA\":3.2},\n",
    "           {\"Name\":\"Mamushet\",\"ID\":1601408,\"CGPA\":3.4}]\n",
    "def Insertion_Sort_By_Name(students):\n",
    "    n = len(students)\n",
    "    for i in range(1 , n):\n",
    "        key_student = students[i]\n",
    "        j=i-1\n",
    "        while j>=0 and students[j][\"Name\"] > key_student[\"Name\"]:\n",
    "            students[j + 1]= students[j]\n",
    "            j-=1\n",
    "            students[j+1]=key_student\n",
    "Insertion_Sort_By_Name(students)\n",
    "print(\"Sorted alfabetically By Name:\")\n",
    "for i in students:\n",
    "    print(i)\n"
   ]
  },
  {
   "cell_type": "markdown",
   "id": "6b0e3424",
   "metadata": {},
   "source": [
    "<h1 style=\"color:green;text-align:center\"><b>Selection Sort</b></h1>\n",
    "<h5>Selection Sort divides the list into a sorted and an unsorted part. It repeatedly selects the smallest (or largest) element from the unsorted part and moves it to the sorted part.</h5>\n",
    "<h4><b>How to work selection Sort:</h4></b>\n",
    "<h5>1, Set the first element element as maxmimum. <br>\n",
    "2, Compare maxmimum with the second element. if the second element is greter than maxmimum, assign the second element as maxmimum. <br>\n",
    "3, After each iteraton, maxmimum is placeed in the front of the unsorted list<br>\n",
    "4,For each iteration, indexingg starts from the first unsorted element. steep 1 to 3 are repeated until all the elements are placeted at thir correct postion.</h5>\n",
    "<h4 style=\"color:yellow\">Performance</h4>\n",
    "<h5>Time Complexity: O(n²) for all cases (best, worst, and average).<br>\n",
    "Space Complexity: O(1) (in-place sorting).</h5>\n",
    "<h4 style=\"color:yellow\">Advantages</h4>\n",
    "<h5>1, simple to implement and understand.<br>\n",
    "2, Performs less data movement compared to Bubble Sort.<br>\n",
    "3, Reqires fewer swaps compare to Bubble sort.</h5>\n",
    "<h4 style=\"color:yellow\">Disadvantages</h4>\n",
    "<h5>1, Inefficient for large datasets due to O(n²) time complexity.<br>\n",
    "2, Always performs O(n²) comparisons, even if the list is already sorted.<br>\n",
    "3, Not stable (relative order may change)</h5>\n",
    "<h4 style =\"color:yellow\">Conclustion</h4>\n",
    "<h5>Selection Sort is sutable for scenarios where swaps are preferred,but it is inefficint for large datasets due to its O(n2) complicity.</h5>\n",
    "\n"
   ]
  },
  {
   "cell_type": "code",
   "execution_count": 7,
   "id": "9994edd2",
   "metadata": {},
   "outputs": [
    {
     "name": "stdout",
     "output_type": "stream",
     "text": [
      "Sorted By CGPA (Decending):\n",
      "{'Name': 'Aster', 'ID': 1601401, 'CGPA': 4.0}\n",
      "{'Name': 'Aynadis', 'ID': 1601300, 'CGPA': 3.8}\n",
      "{'Name': 'Eden', 'ID': 1601507, 'CGPA': 3.7}\n",
      "{'Name': 'Fanos', 'ID': 1601503, 'CGPA': 3.5}\n",
      "{'Name': 'Mamushet', 'ID': 1601408, 'CGPA': 3.4}\n",
      "{'Name': 'Hewan', 'ID': 1601506, 'CGPA': 3.3}\n",
      "{'Name': 'Aster', 'ID': 1601201, 'CGPA': 3.2}\n",
      "{'Name': 'Dayt', 'ID': 1601505, 'CGPA': 3.1}\n",
      "{'Name': 'Nati', 'ID': 1601406, 'CGPA': 3.0}\n",
      "{'Name': 'Abay', 'ID': 1601404, 'CGPA': 2.8}\n"
     ]
    }
   ],
   "source": [
    "students = [{\"Name\":\"Aster\",\"ID\":1601401,\"CGPA\":4.0},\n",
    "           {\"Name\":\"Nati\",\"ID\":1601406,\"CGPA\":3.0},\n",
    "           {\"Name\":\"Hewan\",\"ID\":1601506,\"CGPA\":3.3},\n",
    "           {\"Name\":\"Aynadis\",\"ID\":1601300,\"CGPA\":3.8},\n",
    "           {\"Name\":\"Fanos\",\"ID\":1601503,\"CGPA\":3.5},\n",
    "           {\"Name\":\"Dayt\",\"ID\":1601505,\"CGPA\":3.1},\n",
    "           {\"Name\":\"Eden\",\"ID\":1601507,\"CGPA\":3.7},\n",
    "           {\"Name\":\"Abay\",\"ID\":1601404,\"CGPA\":2.8},\n",
    "           {\"Name\":\"Aster\",\"ID\":1601201,\"CGPA\":3.2},\n",
    "           {\"Name\":\"Mamushet\",\"ID\":1601408,\"CGPA\":3.4}]\n",
    "def Selection_Sort_By_CGPA_Descending(students):\n",
    "    n = len(students)\n",
    "    for i in range(n):\n",
    "        max_index = i\n",
    "        for j in range(i + 1, n):\n",
    "            if students[j][\"CGPA\"] > students[max_index][\"CGPA\"]:\n",
    "                max_index = j\n",
    "        students[i] , students[max_index] = students[max_index] , students[i]\n",
    "Selection_Sort_By_CGPA_Descending(students)\n",
    "print(\"Sorted By CGPA (Decending):\")\n",
    "for i in students:\n",
    "    print(i)\n",
    "\n"
   ]
  }
 ],
 "metadata": {
  "kernelspec": {
   "display_name": "Python 3",
   "language": "python",
   "name": "python3"
  },
  "language_info": {
   "codemirror_mode": {
    "name": "ipython",
    "version": 3
   },
   "file_extension": ".py",
   "mimetype": "text/x-python",
   "name": "python",
   "nbconvert_exporter": "python",
   "pygments_lexer": "ipython3",
   "version": "3.13.0"
  }
 },
 "nbformat": 4,
 "nbformat_minor": 5
}
